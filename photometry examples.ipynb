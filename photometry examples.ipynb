{
 "cells": [
  {
   "cell_type": "code",
   "execution_count": 3,
   "metadata": {
    "collapsed": false
   },
   "outputs": [
    {
     "name": "stdout",
     "output_type": "stream",
     "text": [
      "Populating the interactive namespace from numpy and matplotlib\n"
     ]
    }
   ],
   "source": [
    "%pylab inline\n",
    "import matplotlib.pyplot as plt\n",
    "from astropy.coordinates import SkyCoord\n",
    "from astropy import units as u\n",
    "from astropy.cosmology import WMAP9 as cosmo\n",
    "from astropy.table import Table\n",
    "\n",
    "import numpy as np\n",
    "\n",
    "from photutils import aperture_photometry, CircularAperture, SkyCircularAperture"
   ]
  },
  {
   "cell_type": "code",
   "execution_count": null,
   "metadata": {
    "collapsed": false,
    "scrolled": true
   },
   "outputs": [],
   "source": []
  },
  {
   "cell_type": "code",
   "execution_count": null,
   "metadata": {
    "collapsed": true
   },
   "outputs": [],
   "source": []
  },
  {
   "cell_type": "code",
   "execution_count": 40,
   "metadata": {
    "collapsed": false
   },
   "outputs": [
    {
     "name": "stdout",
     "output_type": "stream",
     "text": [
      "229.00858\n",
      "20.526425\n"
     ]
    },
    {
     "data": {
      "text/plain": [
       "<SkyCoord (ICRS): (ra, dec) in deg\n",
       "    ( 195.1287,  20.526425)>"
      ]
     },
     "execution_count": 40,
     "metadata": {},
     "output_type": "execute_result"
    }
   ],
   "source": [
    "#coordinates\n",
    "from astropy.io import fits\n",
    "hdulist = fits.open('SNhunt175_r.fits')\n",
    "#print (hdulist.info())\n",
    "#print (hdulist[0].header)\n",
    "RA = hdulist[0].header[\"RA\"]\n",
    "Dec = hdulist[0].header[\"DEC\"]\n",
    "print(RA)\n",
    "print (Dec)\n",
    "\n",
    "coordinates = SkyCoord(RA, Dec, unit = (u.hourangle, u.deg))\n",
    "coordinates"
   ]
  },
  {
   "cell_type": "code",
   "execution_count": 41,
   "metadata": {
    "collapsed": false
   },
   "outputs": [
    {
     "data": {
      "text/latex": [
       "$1.1765505 \\; \\mathrm{{}^{\\prime\\prime}}$"
      ],
      "text/plain": [
       "<Quantity 1.1765505181148288 arcsec>"
      ]
     },
     "execution_count": 41,
     "metadata": {},
     "output_type": "execute_result"
    }
   ],
   "source": [
    "# Find the aperture radius in armin\n",
    "t = Table.read(\"observed_target_info.dr1.txt\", format = \"ascii\")\n",
    "z = t[\"z\"]\n",
    "radius = 1 * u.kpc / cosmo.kpc_comoving_per_arcmin(.0409)\n",
    "r = radius * 60 * u.arcsec / u.arcmin\n",
    "r\n",
    "#print(r)\n",
    "\n",
    "#usually do concentric circles of aperture radius to figure out which size is the best to use\n",
    "#assume right now 1 kpc"
   ]
  },
  {
   "cell_type": "code",
   "execution_count": null,
   "metadata": {
    "collapsed": false
   },
   "outputs": [],
   "source": []
  },
  {
   "cell_type": "code",
   "execution_count": 44,
   "metadata": {
    "collapsed": false
   },
   "outputs": [
    {
     "data": {
      "text/plain": [
       "<photutils.aperture.circle.SkyCircularAperture at 0x1d9d1e10cc0>"
      ]
     },
     "execution_count": 44,
     "metadata": {},
     "output_type": "execute_result"
    }
   ],
   "source": [
    "# Create an aperture\n",
    "aperture = SkyCircularAperture(coordinates, r)\n",
    "aperture"
   ]
  },
  {
   "cell_type": "code",
   "execution_count": null,
   "metadata": {
    "collapsed": false
   },
   "outputs": [],
   "source": []
  },
  {
   "cell_type": "code",
   "execution_count": null,
   "metadata": {
    "collapsed": true
   },
   "outputs": [],
   "source": []
  },
  {
   "cell_type": "code",
   "execution_count": 72,
   "metadata": {
    "collapsed": false
   },
   "outputs": [
    {
     "name": "stdout",
     "output_type": "stream",
     "text": [
      "False\n"
     ]
    },
    {
     "name": "stderr",
     "output_type": "stream",
     "text": [
      "C:\\Users\\Emily\\Anaconda3\\lib\\site-packages\\ipykernel\\__main__.py:6: RuntimeWarning: invalid value encountered in sqrt\n",
      "WARNING: UnitsWarning: 'nanomaggy' did not parse as unit: At col 0, nanomaggy is not a valid unit.  [astropy.units.core]\n",
      "WARNING: The BUNIT in the header of the input data is not parseable as a valid unit. [photutils.aperture.core]\n",
      "WARNING: FITSFixedWarning: RADECSYS= 'ICRS ' / International Celestial Ref. System \n",
      "the RADECSYS keyword is deprecated, use RADESYSa. [astropy.wcs.wcs]\n"
     ]
    },
    {
     "data": {
      "text/html": [
       "&lt;QTable length=1&gt;\n",
       "<table id=\"table2034983302592\" class=\"table-striped table-bordered table-condensed\">\n",
       "<thead><tr><th>id</th><th>xcenter</th><th>ycenter</th><th>celestial_center</th><th>aperture_sum</th><th>aperture_sum_err</th></tr></thead>\n",
       "<thead><tr><th></th><th>pix</th><th>pix</th><th></th><th></th><th></th></tr></thead>\n",
       "<thead><tr><th>int32</th><th>float64</th><th>float64</th><th>object</th><th>float64</th><th>float64</th></tr></thead>\n",
       "<tr><td>1</td><td>-74416.93975366684</td><td>-320329.0461587422</td><td>&lt;SkyCoord (ICRS): (ra, dec) in deg\n",
       "    ( 195.1287,  20.526425)&gt;</td><td>nan</td><td>nan</td></tr>\n",
       "</table>"
      ],
      "text/plain": [
       "<QTable length=1>\n",
       "  id       xcenter            ycenter       ... aperture_sum aperture_sum_err\n",
       "             pix                pix         ...                              \n",
       "int32      float64            float64       ...   float64        float64     \n",
       "----- ------------------ ------------------ ... ------------ ----------------\n",
       "    1 -74416.93975366684 -320329.0461587422 ...          nan              nan"
      ]
     },
     "execution_count": 72,
     "metadata": {},
     "output_type": "execute_result"
    }
   ],
   "source": [
    "# Perform photometryb\n",
    "#with closes file when finished running code\n",
    "with fits.open('SNhunt175_r.fits') as ofile:\n",
    "    exp_time = ofile[0].header[\"EXPTIME\"]\n",
    "    data= ofile[0].data\n",
    "    pixel_error = np.sqrt(ofile[0].data / float(exp_time))\n",
    "    int_phot_table = aperture_photometry(ofile[0], aperture, error = pixel_error)\n",
    "\n",
    "print(any(np.isnan(data)))\n",
    "\n",
    "int_phot_table\n"
   ]
  },
  {
   "cell_type": "code",
   "execution_count": null,
   "metadata": {
    "collapsed": true
   },
   "outputs": [],
   "source": []
  },
  {
   "cell_type": "code",
   "execution_count": null,
   "metadata": {
    "collapsed": true
   },
   "outputs": [],
   "source": [
    "#want surface brightness (which I get by doing aperature photometry)\n",
    "#separate image for each filter\n",
    "\n",
    "#calibration is nanomaggies\n",
    "    #one nanomaggie is something that's a brightness of 22.5 magnitudes\n",
    "#log scale assumes positive flux which will confuse uncertaintiy esitmates at low detected photon values\n",
    "\n",
    "#for test case, make sure that brightness I get is similar to brightness SDSS gets\n",
    "#debugging test case, check what the simplest thing is that makes it not work"
   ]
  },
  {
   "cell_type": "code",
   "execution_count": 58,
   "metadata": {
    "collapsed": false
   },
   "outputs": [
    {
     "data": {
      "text/html": [
       "&lt;QTable length=2&gt;\n",
       "<table id=\"table2035007988848\" class=\"table-striped table-bordered table-condensed\">\n",
       "<thead><tr><th>id</th><th>xcenter</th><th>ycenter</th><th>aperture_sum</th><th>aperture_sum_err</th></tr></thead>\n",
       "<thead><tr><th></th><th>pix</th><th>pix</th><th></th><th></th></tr></thead>\n",
       "<thead><tr><th>int32</th><th>float64</th><th>float64</th><th>float64</th><th>float64</th></tr></thead>\n",
       "<tr><td>1</td><td>30.0</td><td>30.0</td><td>28.2743338823</td><td>0.531736155272</td></tr>\n",
       "<tr><td>2</td><td>40.0</td><td>40.0</td><td>28.2743338823</td><td>0.531736155272</td></tr>\n",
       "</table>"
      ],
      "text/plain": [
       "<QTable length=2>\n",
       "  id  xcenter ycenter  aperture_sum aperture_sum_err\n",
       "        pix     pix                                 \n",
       "int32 float64 float64    float64        float64     \n",
       "----- ------- ------- ------------- ----------------\n",
       "    1    30.0    30.0 28.2743338823   0.531736155272\n",
       "    2    40.0    40.0 28.2743338823   0.531736155272"
      ]
     },
     "execution_count": 58,
     "metadata": {},
     "output_type": "execute_result"
    }
   ],
   "source": [
    "#learning basic photometry\n",
    "from photutils import CircularAperture\n",
    "positions = [(30., 30.), (40., 40.)]\n",
    "apertures = CircularAperture(positions, r = 3.)\n",
    "data = np.ones([100, 100])\n",
    "error = 0.1 * data\n",
    "phot_table = aperture_photometry(data, apertures, error=error)\n",
    "phot_table"
   ]
  },
  {
   "cell_type": "code",
   "execution_count": 65,
   "metadata": {
    "collapsed": false
   },
   "outputs": [
    {
     "data": {
      "text/html": [
       "&lt;QTable length=2&gt;\n",
       "<table id=\"table2035038660648\" class=\"table-striped table-bordered table-condensed\">\n",
       "<thead><tr><th>id</th><th>xcenter</th><th>ycenter</th><th>aperture_sum</th></tr></thead>\n",
       "<thead><tr><th></th><th>pix</th><th>pix</th><th></th></tr></thead>\n",
       "<thead><tr><th>int32</th><th>float64</th><th>float64</th><th>float64</th></tr></thead>\n",
       "<tr><td>1</td><td>3.0</td><td>3.0</td><td>8.30463612933</td></tr>\n",
       "<tr><td>2</td><td>4.0</td><td>4.0</td><td>4.31664520607</td></tr>\n",
       "</table>"
      ],
      "text/plain": [
       "<QTable length=2>\n",
       "  id  xcenter ycenter  aperture_sum\n",
       "        pix     pix                \n",
       "int32 float64 float64    float64   \n",
       "----- ------- ------- -------------\n",
       "    1     3.0     3.0 8.30463612933\n",
       "    2     4.0     4.0 4.31664520607"
      ]
     },
     "execution_count": 65,
     "metadata": {},
     "output_type": "execute_result"
    }
   ],
   "source": [
    "#test case with negative numbers\n",
    "from photutils import CircularAperture\n",
    "positions = [(3., 3.), (4., 4.)]\n",
    "apertures = CircularAperture(positions, r = 3.)\n",
    "data = np.array([[1, 1,1, 1], [1, 1, 1, 1], [1, -1, 1, 1], [1, 1, 1, 1]])\n",
    "phot_table = aperture_photometry(data, apertures)\n",
    "phot_table"
   ]
  },
  {
   "cell_type": "code",
   "execution_count": null,
   "metadata": {
    "collapsed": true
   },
   "outputs": [],
   "source": []
  },
  {
   "cell_type": "code",
   "execution_count": 36,
   "metadata": {
    "collapsed": false
   },
   "outputs": [
    {
     "name": "stdout",
     "output_type": "stream",
     "text": [
      "Downloading http://data.astropy.org/photometry/spitzer_example_image.fits [Done]\n",
      "Downloading http://data.astropy.org/photometry/spitzer_example_catalog.xml [Done]\n"
     ]
    },
    {
     "data": {
      "text/html": [
       "&lt;QTable length=80&gt;\n",
       "<table id=\"table2035008096576\" class=\"table-striped table-bordered table-condensed\">\n",
       "<thead><tr><th>id</th><th>xcenter</th><th>ycenter</th><th>celestial_center</th><th>aperture_sum</th></tr></thead>\n",
       "<thead><tr><th></th><th>pix</th><th>pix</th><th>deg,deg</th><th></th></tr></thead>\n",
       "<thead><tr><th>int32</th><th>float64</th><th>float64</th><th>object</th><th>float64</th></tr></thead>\n",
       "<tr><td>1</td><td>-250789.04905435123</td><td>179140.50786607957</td><td>210.77416666666667,54.273694444444445</td><td>nan</td></tr>\n",
       "<tr><td>2</td><td>-492859.9802108787</td><td>119446.01986013724</td><td>133.69189999999998,39.53778333333333</td><td>nan</td></tr>\n",
       "<tr><td>3</td><td>-402362.0589039787</td><td>-38638.22213411843</td><td>52.39716249999999,40.86748055555556</td><td>nan</td></tr>\n",
       "<tr><td>4</td><td>-461592.4336746684</td><td>-182942.33264130194</td><td>34.690837499999994,-6.641791666666666</td><td>nan</td></tr>\n",
       "<tr><td>5</td><td>-217369.6798050777</td><td>-52931.27702441495</td><td>334.3312875,35.580538888888896</td><td>nan</td></tr>\n",
       "<tr><td>6</td><td>-73014.98062331845</td><td>-104802.80326585437</td><td>318.1012583333333,-7.814455555555555</td><td>nan</td></tr>\n",
       "<tr><td>7</td><td>-216700.94837411016</td><td>-146736.7247911804</td><td>351.9812833333333,8.779291666666667</td><td>nan</td></tr>\n",
       "<tr><td>8</td><td>-500003.945008993</td><td>222137.56614267643</td><td>176.05441666666664,33.51663611111111</td><td>nan</td></tr>\n",
       "<tr><td>9</td><td>-193555.33706641354</td><td>-136765.1708058422</td><td>345.69840416666665,8.802255555555556</td><td>nan</td></tr>\n",
       "<tr><td>...</td><td>...</td><td>...</td><td>...</td><td>...</td></tr>\n",
       "<tr><td>71</td><td>-479409.2670482044</td><td>-138263.22700168134</td><td>47.70942916666666,1.4219972222222224</td><td>nan</td></tr>\n",
       "<tr><td>72</td><td>-525205.5999105785</td><td>-114208.1163679219</td><td>60.961091666666654,-2.655158333333333</td><td>nan</td></tr>\n",
       "<tr><td>73</td><td>-310964.4661649646</td><td>-93521.53926202431</td><td>11.961791666666665,31.821527777777778</td><td>nan</td></tr>\n",
       "<tr><td>74</td><td>-350431.49550095847</td><td>-72267.92334182671</td><td>27.03495833333333,37.55808333333333</td><td>nan</td></tr>\n",
       "<tr><td>75</td><td>-484027.7487964251</td><td>160208.1390743855</td><td>151.6203,41.023491666666665</td><td>nan</td></tr>\n",
       "<tr><td>76</td><td>190741.78910091083</td><td>169787.7347190489</td><td>199.37216666666663,-5.544202777777778</td><td>nan</td></tr>\n",
       "<tr><td>77</td><td>-95591.42978150067</td><td>125831.42557724327</td><td>247.8909208333333,30.146124999999998</td><td>nan</td></tr>\n",
       "<tr><td>78</td><td>-279022.7536701288</td><td>-163738.89891927183</td><td>6.118595833333333,7.8168138888888885</td><td>nan</td></tr>\n",
       "<tr><td>79</td><td>-449701.188939437</td><td>63964.17791337837</td><td>105.21585416666665,48.48976388888889</td><td>nan</td></tr>\n",
       "<tr><td>80</td><td>520917.4748836726</td><td>-46019.33489611075</td><td>85.63393333333332,0.15054166666666666</td><td>nan</td></tr>\n",
       "</table>"
      ],
      "text/plain": [
       "<QTable length=80>\n",
       "  id        xcenter       ...            celestial_center           aperture_sum\n",
       "              pix         ...                deg,deg                            \n",
       "int32       float64       ...                 object                  float64   \n",
       "----- ------------------- ... ------------------------------------- ------------\n",
       "    1 -250789.04905435123 ... 210.77416666666667,54.273694444444445          nan\n",
       "    2  -492859.9802108787 ...  133.69189999999998,39.53778333333333          nan\n",
       "    3  -402362.0589039787 ...   52.39716249999999,40.86748055555556          nan\n",
       "    4  -461592.4336746684 ... 34.690837499999994,-6.641791666666666          nan\n",
       "    5  -217369.6798050777 ...        334.3312875,35.580538888888896          nan\n",
       "    6  -73014.98062331845 ...  318.1012583333333,-7.814455555555555          nan\n",
       "    7 -216700.94837411016 ...   351.9812833333333,8.779291666666667          nan\n",
       "    8   -500003.945008993 ...  176.05441666666664,33.51663611111111          nan\n",
       "    9 -193555.33706641354 ...  345.69840416666665,8.802255555555556          nan\n",
       "  ...                 ... ...                                   ...          ...\n",
       "   71  -479409.2670482044 ...  47.70942916666666,1.4219972222222224          nan\n",
       "   72  -525205.5999105785 ... 60.961091666666654,-2.655158333333333          nan\n",
       "   73  -310964.4661649646 ... 11.961791666666665,31.821527777777778          nan\n",
       "   74 -350431.49550095847 ...   27.03495833333333,37.55808333333333          nan\n",
       "   75  -484027.7487964251 ...           151.6203,41.023491666666665          nan\n",
       "   76  190741.78910091083 ... 199.37216666666663,-5.544202777777778          nan\n",
       "   77  -95591.42978150067 ...  247.8909208333333,30.146124999999998          nan\n",
       "   78  -279022.7536701288 ...  6.118595833333333,7.8168138888888885          nan\n",
       "   79   -449701.188939437 ...  105.21585416666665,48.48976388888889          nan\n",
       "   80   520917.4748836726 ... 85.63393333333332,0.15054166666666666          nan"
      ]
     },
     "execution_count": 36,
     "metadata": {},
     "output_type": "execute_result"
    }
   ],
   "source": [
    "#test cast skycircular coordinates and uploaded data\n",
    "from astropy.coordinates import SkyCoord\n",
    "from photutils import SkyCircularAperture\n",
    "from astropy import wcs\n",
    "from photutils import datasets\n",
    "hdu = datasets.load_spitzer_image()\n",
    "catalog = datasets.load_spitzer_catalog()\n",
    "#positions = SkyCoord(catalog['l'], catalog['b'], unit = (u.arcsec, u.arcsec), frame = 'galactic')\n",
    "#apertures = SkyCircularAperture(positions, r = 4.8 *u.arcsec)\n",
    "phot_table = aperture_photometry(hdu, aperture)\n",
    "phot_table"
   ]
  },
  {
   "cell_type": "code",
   "execution_count": null,
   "metadata": {
    "collapsed": true
   },
   "outputs": [],
   "source": [
    "#want to figure out why NaN return"
   ]
  }
 ],
 "metadata": {
  "kernelspec": {
   "display_name": "Python 3",
   "language": "python",
   "name": "python3"
  },
  "language_info": {
   "codemirror_mode": {
    "name": "ipython",
    "version": 3
   },
   "file_extension": ".py",
   "mimetype": "text/x-python",
   "name": "python",
   "nbconvert_exporter": "python",
   "pygments_lexer": "ipython3",
   "version": "3.6.0"
  }
 },
 "nbformat": 4,
 "nbformat_minor": 2
}
